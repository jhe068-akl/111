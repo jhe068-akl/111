{
  "nbformat": 4,
  "nbformat_minor": 0,
  "metadata": {
    "colab": {
      "provenance": [],
      "authorship_tag": "ABX9TyMkr0pI8hKC0qFT1eSbq7sP",
      "include_colab_link": true
    },
    "kernelspec": {
      "name": "python3",
      "display_name": "Python 3"
    },
    "language_info": {
      "name": "python"
    }
  },
  "cells": [
    {
      "cell_type": "markdown",
      "metadata": {
        "id": "view-in-github",
        "colab_type": "text"
      },
      "source": [
        "<a href=\"https://colab.research.google.com/github/jhe068-akl/111/blob/main/Jiayi.ipynb\" target=\"_parent\"><img src=\"https://colab.research.google.com/assets/colab-badge.svg\" alt=\"Open In Colab\"/></a>"
      ]
    },
    {
      "cell_type": "code",
      "execution_count": null,
      "metadata": {
        "colab": {
          "base_uri": "https://localhost:8080/"
        },
        "id": "UBGvTodPdKfe",
        "outputId": "5d333d9a-10e5-430f-f493-444f36b852d8"
      },
      "outputs": [
        {
          "output_type": "stream",
          "name": "stdout",
          "text": [
            "Jiayi is the best\n"
          ]
        }
      ],
      "source": [
        "#print something\n",
        "print(\"Jiayi is the best\")"
      ]
    },
    {
      "cell_type": "code",
      "source": [
        "#define a function\n",
        "def add(a,b):\n",
        "  return a + b\n",
        "\n",
        "#create a variable\n",
        "result = add(3,5)\n",
        "\n",
        "#print something\n",
        "print(result)"
      ],
      "metadata": {
        "colab": {
          "base_uri": "https://localhost:8080/"
        },
        "id": "eTHugD4WRMtc",
        "outputId": "d64a63fa-b722-46fb-b0a8-4ce3cb2d9ef5"
      },
      "execution_count": 1,
      "outputs": [
        {
          "output_type": "stream",
          "name": "stdout",
          "text": [
            "8\n"
          ]
        }
      ]
    },
    {
      "cell_type": "code",
      "source": [
        "#simple interest annually\n",
        "def sim(principal,rate,year):\n",
        "  return principal * rate * year\n",
        "\n",
        "#try\n",
        "my_in = sim(1000,0.06,3)\n",
        "print(my_in)\n",
        "\n",
        "#compounded interest annually\n",
        "def com(principal,rate,year):\n",
        "  return principal * (1 + rate) ** year - principal\n",
        "\n",
        "#try\n",
        "ne_in = com(1000,0.06,3)\n",
        "print(ne_in)"
      ],
      "metadata": {
        "colab": {
          "base_uri": "https://localhost:8080/"
        },
        "id": "3wXuJuqPSz-x",
        "outputId": "97a5b813-d626-4735-b123-cf50cec3215b"
      },
      "execution_count": 8,
      "outputs": [
        {
          "output_type": "stream",
          "name": "stdout",
          "text": [
            "180.0\n",
            "191.01600000000008\n"
          ]
        }
      ]
    },
    {
      "cell_type": "code",
      "source": [
        "#for loop to number\n",
        "for i in range(5):\n",
        "  print(i)"
      ],
      "metadata": {
        "colab": {
          "base_uri": "https://localhost:8080/"
        },
        "id": "IHS8VdWRZ010",
        "outputId": "b0a1736f-4835-41ac-f6cd-23c6c4e94956"
      },
      "execution_count": 9,
      "outputs": [
        {
          "output_type": "stream",
          "name": "stdout",
          "text": [
            "0\n",
            "1\n",
            "2\n",
            "3\n",
            "4\n"
          ]
        }
      ]
    },
    {
      "cell_type": "code",
      "source": [
        "#while loop to count down\n",
        "\n",
        "#1.initialize first\n",
        "count = 0\n",
        "\n",
        "#2.perform until reach the opposite of term\n",
        "while count < 3:\n",
        "  print(count)\n",
        "  count = count + 1"
      ],
      "metadata": {
        "colab": {
          "base_uri": "https://localhost:8080/"
        },
        "id": "FdLwuE9Ua-Of",
        "outputId": "3d7ee150-2c6f-4946-d2a4-2b15436c269d"
      },
      "execution_count": 10,
      "outputs": [
        {
          "output_type": "stream",
          "name": "stdout",
          "text": [
            "0\n",
            "1\n",
            "2\n"
          ]
        }
      ]
    }
  ]
}